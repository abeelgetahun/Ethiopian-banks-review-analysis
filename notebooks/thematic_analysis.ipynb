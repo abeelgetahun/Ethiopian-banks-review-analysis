{
 "cells": [
  {
   "cell_type": "markdown",
   "metadata": {},
   "source": [
    "# Thematic Analysis for Ethiopian Mobile Banking Reviews\n",
    "\n",
    "This notebook explores thematic analysis to identify key themes and topics in mobile banking app reviews."
   ]
  },
  {
   "cell_type": "code",
   "execution_count": 1,
   "metadata": {},
   "outputs": [
    {
     "ename": "ValueError",
     "evalue": "numpy.dtype size changed, may indicate binary incompatibility. Expected 96 from C header, got 88 from PyObject",
     "output_type": "error",
     "traceback": [
      "\u001b[1;31m---------------------------------------------------------------------------\u001b[0m",
      "\u001b[1;31mValueError\u001b[0m                                Traceback (most recent call last)",
      "Cell \u001b[1;32mIn[1], line 14\u001b[0m\n\u001b[0;32m     11\u001b[0m sys\u001b[38;5;241m.\u001b[39mpath\u001b[38;5;241m.\u001b[39mappend(\u001b[38;5;28mstr\u001b[39m(Path()\u001b[38;5;241m.\u001b[39mresolve()\u001b[38;5;241m.\u001b[39mparent))\n\u001b[0;32m     13\u001b[0m \u001b[38;5;66;03m# Import thematic analysis module\u001b[39;00m\n\u001b[1;32m---> 14\u001b[0m \u001b[38;5;28;01mfrom\u001b[39;00m\u001b[38;5;250m \u001b[39m\u001b[38;5;21;01msrc\u001b[39;00m\u001b[38;5;21;01m.\u001b[39;00m\u001b[38;5;21;01mthematic\u001b[39;00m\u001b[38;5;250m \u001b[39m\u001b[38;5;28;01mimport\u001b[39;00m (preprocess_text, extract_keywords_tfidf, extract_keywords_spacy,\n\u001b[0;32m     15\u001b[0m                          identify_themes, topic_modeling, assign_themes_to_reviews)\n\u001b[0;32m     17\u001b[0m \u001b[38;5;66;03m# Set plot style\u001b[39;00m\n\u001b[0;32m     18\u001b[0m plt\u001b[38;5;241m.\u001b[39mstyle\u001b[38;5;241m.\u001b[39muse(\u001b[38;5;124m'\u001b[39m\u001b[38;5;124mggplot\u001b[39m\u001b[38;5;124m'\u001b[39m)\n",
      "File \u001b[1;32m~\\OneDrive\\Documents\\programs\\projects\\Ethiopian-banks-review-analysis\\src\\thematic.py:11\u001b[0m\n\u001b[0;32m      9\u001b[0m \u001b[38;5;28;01mfrom\u001b[39;00m\u001b[38;5;250m \u001b[39m\u001b[38;5;21;01msklearn\u001b[39;00m\u001b[38;5;21;01m.\u001b[39;00m\u001b[38;5;21;01mdecomposition\u001b[39;00m\u001b[38;5;250m \u001b[39m\u001b[38;5;28;01mimport\u001b[39;00m LatentDirichletAllocation, NMF\n\u001b[0;32m     10\u001b[0m \u001b[38;5;28;01mfrom\u001b[39;00m\u001b[38;5;250m \u001b[39m\u001b[38;5;21;01mcollections\u001b[39;00m\u001b[38;5;250m \u001b[39m\u001b[38;5;28;01mimport\u001b[39;00m Counter\n\u001b[1;32m---> 11\u001b[0m \u001b[38;5;28;01mimport\u001b[39;00m\u001b[38;5;250m \u001b[39m\u001b[38;5;21;01mspacy\u001b[39;00m\n\u001b[0;32m     12\u001b[0m \u001b[38;5;28;01mimport\u001b[39;00m\u001b[38;5;250m \u001b[39m\u001b[38;5;21;01mstring\u001b[39;00m\n\u001b[0;32m     13\u001b[0m \u001b[38;5;28;01mfrom\u001b[39;00m\u001b[38;5;250m \u001b[39m\u001b[38;5;21;01mlangdetect\u001b[39;00m\u001b[38;5;250m \u001b[39m\u001b[38;5;28;01mimport\u001b[39;00m detect, LangDetectException\n",
      "File \u001b[1;32mc:\\Users\\hp\\OneDrive\\Documents\\programs\\projects\\Ethiopian-banks-review-analysis\\.venv\\lib\\site-packages\\spacy\\__init__.py:6\u001b[0m\n\u001b[0;32m      3\u001b[0m \u001b[38;5;28;01mimport\u001b[39;00m\u001b[38;5;250m \u001b[39m\u001b[38;5;21;01msys\u001b[39;00m\n\u001b[0;32m      5\u001b[0m \u001b[38;5;66;03m# set library-specific custom warning handling before doing anything else\u001b[39;00m\n\u001b[1;32m----> 6\u001b[0m \u001b[38;5;28;01mfrom\u001b[39;00m\u001b[38;5;250m \u001b[39m\u001b[38;5;21;01m.\u001b[39;00m\u001b[38;5;21;01merrors\u001b[39;00m\u001b[38;5;250m \u001b[39m\u001b[38;5;28;01mimport\u001b[39;00m setup_default_warnings\n\u001b[0;32m      8\u001b[0m setup_default_warnings()  \u001b[38;5;66;03m# noqa: E402\u001b[39;00m\n\u001b[0;32m     10\u001b[0m \u001b[38;5;66;03m# These are imported as part of the API\u001b[39;00m\n",
      "File \u001b[1;32mc:\\Users\\hp\\OneDrive\\Documents\\programs\\projects\\Ethiopian-banks-review-analysis\\.venv\\lib\\site-packages\\spacy\\errors.py:2\u001b[0m\n\u001b[0;32m      1\u001b[0m \u001b[38;5;28;01mimport\u001b[39;00m\u001b[38;5;250m \u001b[39m\u001b[38;5;21;01mwarnings\u001b[39;00m\n\u001b[1;32m----> 2\u001b[0m \u001b[38;5;28;01mfrom\u001b[39;00m\u001b[38;5;250m \u001b[39m\u001b[38;5;21;01m.\u001b[39;00m\u001b[38;5;21;01mcompat\u001b[39;00m\u001b[38;5;250m \u001b[39m\u001b[38;5;28;01mimport\u001b[39;00m Literal\n\u001b[0;32m      5\u001b[0m \u001b[38;5;28;01mclass\u001b[39;00m\u001b[38;5;250m \u001b[39m\u001b[38;5;21;01mErrorsWithCodes\u001b[39;00m(\u001b[38;5;28mtype\u001b[39m):\n\u001b[0;32m      6\u001b[0m     \u001b[38;5;28;01mdef\u001b[39;00m\u001b[38;5;250m \u001b[39m\u001b[38;5;21m__getattribute__\u001b[39m(\u001b[38;5;28mself\u001b[39m, code):\n",
      "File \u001b[1;32mc:\\Users\\hp\\OneDrive\\Documents\\programs\\projects\\Ethiopian-banks-review-analysis\\.venv\\lib\\site-packages\\spacy\\compat.py:38\u001b[0m\n\u001b[0;32m     35\u001b[0m \u001b[38;5;28;01mexcept\u001b[39;00m \u001b[38;5;167;01mImportError\u001b[39;00m:\n\u001b[0;32m     36\u001b[0m     \u001b[38;5;28;01mfrom\u001b[39;00m\u001b[38;5;250m \u001b[39m\u001b[38;5;21;01mcatalogue\u001b[39;00m\u001b[38;5;250m \u001b[39m\u001b[38;5;28;01mimport\u001b[39;00m _importlib_metadata \u001b[38;5;28;01mas\u001b[39;00m importlib_metadata  \u001b[38;5;66;03m# type: ignore[no-redef]    # noqa: F401\u001b[39;00m\n\u001b[1;32m---> 38\u001b[0m \u001b[38;5;28;01mfrom\u001b[39;00m\u001b[38;5;250m \u001b[39m\u001b[38;5;21;01mthinc\u001b[39;00m\u001b[38;5;21;01m.\u001b[39;00m\u001b[38;5;21;01mapi\u001b[39;00m\u001b[38;5;250m \u001b[39m\u001b[38;5;28;01mimport\u001b[39;00m Optimizer  \u001b[38;5;66;03m# noqa: F401\u001b[39;00m\n\u001b[0;32m     40\u001b[0m pickle \u001b[38;5;241m=\u001b[39m pickle\n\u001b[0;32m     41\u001b[0m copy_reg \u001b[38;5;241m=\u001b[39m copy_reg\n",
      "File \u001b[1;32mc:\\Users\\hp\\OneDrive\\Documents\\programs\\projects\\Ethiopian-banks-review-analysis\\.venv\\lib\\site-packages\\thinc\\api.py:1\u001b[0m\n\u001b[1;32m----> 1\u001b[0m \u001b[38;5;28;01mfrom\u001b[39;00m\u001b[38;5;250m \u001b[39m\u001b[38;5;21;01m.\u001b[39;00m\u001b[38;5;21;01mbackends\u001b[39;00m\u001b[38;5;250m \u001b[39m\u001b[38;5;28;01mimport\u001b[39;00m (\n\u001b[0;32m      2\u001b[0m     CupyOps,\n\u001b[0;32m      3\u001b[0m     MPSOps,\n\u001b[0;32m      4\u001b[0m     NumpyOps,\n\u001b[0;32m      5\u001b[0m     Ops,\n\u001b[0;32m      6\u001b[0m     get_current_ops,\n\u001b[0;32m      7\u001b[0m     get_ops,\n\u001b[0;32m      8\u001b[0m     set_current_ops,\n\u001b[0;32m      9\u001b[0m     set_gpu_allocator,\n\u001b[0;32m     10\u001b[0m     use_ops,\n\u001b[0;32m     11\u001b[0m     use_pytorch_for_gpu_memory,\n\u001b[0;32m     12\u001b[0m     use_tensorflow_for_gpu_memory,\n\u001b[0;32m     13\u001b[0m )\n\u001b[0;32m     14\u001b[0m \u001b[38;5;28;01mfrom\u001b[39;00m\u001b[38;5;250m \u001b[39m\u001b[38;5;21;01m.\u001b[39;00m\u001b[38;5;21;01mcompat\u001b[39;00m\u001b[38;5;250m \u001b[39m\u001b[38;5;28;01mimport\u001b[39;00m has_cupy\n\u001b[0;32m     15\u001b[0m \u001b[38;5;28;01mfrom\u001b[39;00m\u001b[38;5;250m \u001b[39m\u001b[38;5;21;01m.\u001b[39;00m\u001b[38;5;21;01mconfig\u001b[39;00m\u001b[38;5;250m \u001b[39m\u001b[38;5;28;01mimport\u001b[39;00m Config, ConfigValidationError, registry\n",
      "File \u001b[1;32mc:\\Users\\hp\\OneDrive\\Documents\\programs\\projects\\Ethiopian-banks-review-analysis\\.venv\\lib\\site-packages\\thinc\\backends\\__init__.py:17\u001b[0m\n\u001b[0;32m     15\u001b[0m \u001b[38;5;28;01mfrom\u001b[39;00m\u001b[38;5;250m \u001b[39m\u001b[38;5;21;01m.\u001b[39;00m\u001b[38;5;21;01m_cupy_allocators\u001b[39;00m\u001b[38;5;250m \u001b[39m\u001b[38;5;28;01mimport\u001b[39;00m cupy_pytorch_allocator, cupy_tensorflow_allocator\n\u001b[0;32m     16\u001b[0m \u001b[38;5;28;01mfrom\u001b[39;00m\u001b[38;5;250m \u001b[39m\u001b[38;5;21;01m.\u001b[39;00m\u001b[38;5;21;01m_param_server\u001b[39;00m\u001b[38;5;250m \u001b[39m\u001b[38;5;28;01mimport\u001b[39;00m ParamServer\n\u001b[1;32m---> 17\u001b[0m \u001b[38;5;28;01mfrom\u001b[39;00m\u001b[38;5;250m \u001b[39m\u001b[38;5;21;01m.\u001b[39;00m\u001b[38;5;21;01mcupy_ops\u001b[39;00m\u001b[38;5;250m \u001b[39m\u001b[38;5;28;01mimport\u001b[39;00m CupyOps\n\u001b[0;32m     18\u001b[0m \u001b[38;5;28;01mfrom\u001b[39;00m\u001b[38;5;250m \u001b[39m\u001b[38;5;21;01m.\u001b[39;00m\u001b[38;5;21;01mmps_ops\u001b[39;00m\u001b[38;5;250m \u001b[39m\u001b[38;5;28;01mimport\u001b[39;00m MPSOps\n\u001b[0;32m     19\u001b[0m \u001b[38;5;28;01mfrom\u001b[39;00m\u001b[38;5;250m \u001b[39m\u001b[38;5;21;01m.\u001b[39;00m\u001b[38;5;21;01mnumpy_ops\u001b[39;00m\u001b[38;5;250m \u001b[39m\u001b[38;5;28;01mimport\u001b[39;00m NumpyOps\n",
      "File \u001b[1;32mc:\\Users\\hp\\OneDrive\\Documents\\programs\\projects\\Ethiopian-banks-review-analysis\\.venv\\lib\\site-packages\\thinc\\backends\\cupy_ops.py:16\u001b[0m\n\u001b[0;32m      6\u001b[0m \u001b[38;5;28;01mfrom\u001b[39;00m\u001b[38;5;250m \u001b[39m\u001b[38;5;21;01m.\u001b[39;00m\u001b[38;5;21;01m.\u001b[39;00m\u001b[38;5;21;01mutil\u001b[39;00m\u001b[38;5;250m \u001b[39m\u001b[38;5;28;01mimport\u001b[39;00m (\n\u001b[0;32m      7\u001b[0m     is_cupy_array,\n\u001b[0;32m      8\u001b[0m     is_mxnet_gpu_array,\n\u001b[1;32m   (...)\u001b[0m\n\u001b[0;32m     13\u001b[0m     torch2xp,\n\u001b[0;32m     14\u001b[0m )\n\u001b[0;32m     15\u001b[0m \u001b[38;5;28;01mfrom\u001b[39;00m\u001b[38;5;250m \u001b[39m\u001b[38;5;21;01m.\u001b[39;00m\u001b[38;5;250m \u001b[39m\u001b[38;5;28;01mimport\u001b[39;00m _custom_kernels\n\u001b[1;32m---> 16\u001b[0m \u001b[38;5;28;01mfrom\u001b[39;00m\u001b[38;5;250m \u001b[39m\u001b[38;5;21;01m.\u001b[39;00m\u001b[38;5;21;01mnumpy_ops\u001b[39;00m\u001b[38;5;250m \u001b[39m\u001b[38;5;28;01mimport\u001b[39;00m NumpyOps\n\u001b[0;32m     17\u001b[0m \u001b[38;5;28;01mfrom\u001b[39;00m\u001b[38;5;250m \u001b[39m\u001b[38;5;21;01m.\u001b[39;00m\u001b[38;5;21;01mops\u001b[39;00m\u001b[38;5;250m \u001b[39m\u001b[38;5;28;01mimport\u001b[39;00m Ops\n\u001b[0;32m     20\u001b[0m \u001b[38;5;129m@registry\u001b[39m\u001b[38;5;241m.\u001b[39mops(\u001b[38;5;124m\"\u001b[39m\u001b[38;5;124mCupyOps\u001b[39m\u001b[38;5;124m\"\u001b[39m)\n\u001b[0;32m     21\u001b[0m \u001b[38;5;28;01mclass\u001b[39;00m\u001b[38;5;250m \u001b[39m\u001b[38;5;21;01mCupyOps\u001b[39;00m(Ops):\n",
      "File \u001b[1;32mc:\\Users\\hp\\OneDrive\\Documents\\programs\\projects\\Ethiopian-banks-review-analysis\\.venv\\lib\\site-packages\\thinc\\backends\\numpy_ops.pyx:1\u001b[0m, in \u001b[0;36minit thinc.backends.numpy_ops\u001b[1;34m()\u001b[0m\n",
      "\u001b[1;31mValueError\u001b[0m: numpy.dtype size changed, may indicate binary incompatibility. Expected 96 from C header, got 88 from PyObject"
     ]
    }
   ],
   "source": [
    "import pandas as pd\n",
    "import numpy as np\n",
    "import matplotlib.pyplot as plt\n",
    "import seaborn as sns\n",
    "import sys\n",
    "import os\n",
    "from pathlib import Path\n",
    "from wordcloud import WordCloud\n",
    "\n",
    "# Add parent directory to path\n",
    "sys.path.append(str(Path().resolve().parent))\n",
    "\n",
    "# Import thematic analysis module\n",
    "from src.thematic import (preprocess_text, extract_keywords_tfidf, extract_keywords_spacy,\n",
    "                         identify_themes, topic_modeling, assign_themes_to_reviews)\n",
    "\n",
    "# Set plot style\n",
    "plt.style.use('ggplot')\n",
    "sns.set(font_scale=1.2)\n",
    "sns.set_style(\"whitegrid\")"
   ]
  },
  {
   "cell_type": "markdown",
   "metadata": {},
   "source": [
    "## Load Data"
   ]
  },
  {
   "cell_type": "code",
   "execution_count": null,
   "metadata": {},
   "outputs": [],
   "source": [
    "# Load the processed reviews\n",
    "df = pd.read_csv('../data/processed/processed_reviews.csv')\n",
    "print(f\"Loaded {len(df)} reviews\")\n",
    "\n",
    "# Load sentiment results if available\n",
    "try:\n",
    "    sentiment_df = pd.read_csv('../data/task2/sentiment_results.csv')\n",
    "    print(f\"Loaded sentiment results for {len(sentiment_df)} reviews\")\n",
    "    # Merge with original data if needed\n",
    "    df = sentiment_df\n",
    "except FileNotFoundError:\n",
    "    print(\"Sentiment results not found, using processed reviews only\")\n",
    "    \n",
    "df.head()"
   ]
  },
  {
   "cell_type": "markdown",
   "metadata": {},
   "source": [
    "## Text Preprocessing"
   ]
  },
  {
   "cell_type": "code",
   "execution_count": null,
   "metadata": {},
   "outputs": [],
   "source": [
    "# Preprocess text for thematic analysis\n",
    "df['processed_text'] = df['review_text'].apply(preprocess_text)\n",
    "\n",
    "# Display some examples\n",
    "for i in range(5):\n",
    "    print(f\"Original: {df.iloc[i]['review_text']}\")\n",
    "    print(f\"Processed: {df.iloc[i]['processed_text']}\")\n",
    "    print(\"---\")"
   ]
  },
  {
   "cell_type": "markdown",
   "metadata": {},
   "source": [
    "## Keyword Extraction with TF-IDF"
   ]
  },
  {
   "cell_type": "code",
   "execution_count": null,
   "metadata": {},
   "outputs": [],
   "source": [
    "# Extract keywords using TF-IDF\n",
    "bank_keywords = extract_keywords_tfidf(df, n_keywords=20, ngram_range=(1, 3))\n",
    "\n",
    "# Display top keywords for each bank\n",
    "for bank, keywords in bank_keywords.items():\n",
    "    print(f\"\\n{bank} Top Keywords:\")\n",
    "    for keyword, score in keywords[:10]:\n",
    "        print(f\"  {keyword}: {score:.4f}\")"
   ]
  },
  {
   "cell_type": "code",
   "execution_count": null,
   "metadata": {},
   "outputs": [],
   "source": [
    "# Create word clouds for each bank\n",
    "for bank, keywords in bank_keywords.items():\n",
    "    # Create a dictionary of word frequencies\n",
    "    word_freq = {word: score for word, score in keywords}\n",
    "    \n",
    "    # Generate word cloud\n",
    "    wordcloud = WordCloud(width=800, height=400, background_color='white', \n",
    "                         max_words=100, colormap='viridis').generate_from_frequencies(word_freq)\n",
    "    \n",
    "    # Plot word cloud\n",
    "    plt.figure(figsize=(12, 6))\n",
    "    plt.imshow(wordcloud, interpolation='bilinear')\n",
    "    plt.title(f'{bank} - Key Terms Word Cloud')\n",
    "    plt.axis('off')\n",
    "    plt.tight_layout()\n",
    "    plt.show()"
   ]
  },
  {
   "cell_type": "markdown",
   "metadata": {},
   "source": [
    "## Theme Identification"
   ]
  },
  {
   "cell_type": "code",
   "execution_count": null,
   "metadata": {},
   "outputs": [],
   "source": [
    "# Identify themes based on keywords\n",
    "bank_themes = identify_themes(bank_keywords, num_themes=5)\n",
    "\n",
    "# Display identified themes for each bank\n",
    "for bank, themes in bank_themes.items():\n",
    "    print(f\"\\n{bank} Themes:\")\n",
    "    for theme, score in themes:\n",
    "        print(f\"  {theme}: {score:.4f}\")"
   ]
  },
  {
   "cell_type": "code",
   "execution_count": null,
   "metadata": {},
   "outputs": [],
   "source": [
    "# Convert themes to DataFrame for visualization\n",
    "theme_rows = []\n",
    "for bank, themes in bank_themes.items():\n",
    "    for theme, score in themes:\n",
    "        theme_rows.append({\n",
    "            'bank': bank,\n",
    "            'theme': theme,\n",
    "            'theme_score': score\n",
    "        })\n",
    "theme_df = pd.DataFrame(theme_rows)\n",
    "\n",
    "# Plot themes by bank\n",
    "plt.figure(figsize=(14, 10))\n",
    "theme_pivot = theme_df.pivot(index='bank', columns='theme', values='theme_score')\n",
    "sns.heatmap(theme_pivot, annot=True, cmap='viridis', fmt='.2f')\n",
    "plt.title('Theme Relevance by Bank')\n",
    "plt.xlabel('Theme')\n",
    "plt.ylabel('Bank')\n",
    "plt.tight_layout()\n",
    "plt.show()"
   ]
  },
  {
   "cell_type": "markdown",
   "metadata": {},
   "source": [
    "## Topic Modeling"
   ]
  },
  {
   "cell_type": "code",
   "execution_count": null,
   "metadata": {},
   "outputs": [],
   "source": [
    "# Perform topic modeling using NMF\n",
    "topics_nmf = topic_modeling(df, n_topics=5, method='nmf')\n",
    "\n",
    "# Display NMF topics\n",
    "print(\"NMF Topics:\")\n",
    "for topic, keywords in topics_nmf.items():\n",
    "    print(f\"\\n{topic}: {', '.join(keywords)}\")"
   ]
  },
  {
   "cell_type": "code",
   "execution_count": null,
   "metadata": {},
   "outputs": [],
   "source": [
    "# Perform topic modeling using LDA\n",
    "topics_lda = topic_modeling(df, n_topics=5, method='lda')\n",
    "\n",
    "# Display LDA topics\n",
    "print(\"LDA Topics:\")\n",
    "for topic, keywords in topics_lda.items():\n",
    "    print(f\"\\n{topic}: {', '.join(keywords)}\")"
   ]
  },
  {
   "cell_type": "code",
   "execution_count": null,
   "metadata": {},
   "outputs": [],
   "source": [
    "# Create word clouds for each topic\n",
    "for topic, keywords in topics_nmf.items():\n",
    "    # Create a dictionary of word frequencies (using index as score)\n",
    "    word_freq = {word: (len(keywords) - i) for i, word in enumerate(keywords)}\n",
    "    \n",
    "    # Generate word cloud\n",
    "    wordcloud = WordCloud(width=800, height=400, background_color='white', \n",
    "                         max_words=50, colormap='plasma').generate_from_frequencies(word_freq)\n",
    "    \n",
    "    # Plot word cloud\n",
    "    plt.figure(figsize=(10, 5))\n",
    "    plt.imshow(wordcloud, interpolation='bilinear')\n",
    "    plt.title(f'{topic} Word Cloud')\n",
    "    plt.axis('off')\n",
    "    plt.tight_layout()\n",
    "    plt.show()"
   ]
  },
  {
   "cell_type": "markdown",
   "metadata": {},
   "source": [
    "## Assigning Themes to Reviews"
   ]
  },
  {
   "cell_type": "code",
   "execution_count": null,
   "metadata": {},
   "outputs": [],
   "source": [
    "# Assign themes to individual reviews\n",
    "themed_df = assign_themes_to_reviews(df, bank_themes)\n",
    "themed_df.head()"
   ]
  },
  {
   "cell_type": "code",
   "execution_count": null,
   "metadata": {},
   "outputs": [],
   "source": [
    "# Check distribution of themes\n",
    "plt.figure(figsize=(14, 8))\n",
    "theme_counts = themed_df['identified_themes'].value_counts().sort_values(ascending=False)\n",
    "sns.barplot(x=theme_counts.index, y=theme_counts.values)\n",
    "plt.title('Distribution of Themes in Reviews')\n",
    "plt.xlabel('Theme')\n",
    "plt.ylabel('Count')\n",
    "plt.xticks(rotation=45)\n",
    "plt.tight_layout()\n",
    "plt.show()"
   ]
  },
  {
   "cell_type": "markdown",
   "metadata": {},
   "source": [
    "## Theme Analysis by Sentiment"
   ]
  },
  {
   "cell_type": "code",
   "execution_count": null,
   "metadata": {},
   "outputs": [],
   "source": [
    "# Check if sentiment analysis results are available\n",
    "if 'sentiment_label' in themed_df.columns:\n",
    "    # Analyze themes by sentiment\n",
    "    theme_sentiment = themed_df.groupby(['identified_themes', 'sentiment_label']).size().unstack().fillna(0)\n",
    "    \n",
    "    # Calculate percentages\n",
    "    theme_sentiment_pct = theme_sentiment.div(theme_sentiment.sum(axis=1), axis=0) * 100\n",
    "    \n",
    "    # Sort by positive sentiment percentage\n",
    "    if 'positive' in theme_sentiment_pct.columns:\n",
    "        theme_sentiment_pct = theme_sentiment_pct.sort_values('positive', ascending=False)\n",
    "    \n",
    "    # Plot\n",
    "    plt.figure(figsize=(14, 10))\n",
    "    theme_sentiment_pct.plot(kind='bar', stacked=True, colormap='RdYlGn')\n",
    "    plt.title('Sentiment Distribution by Theme')\n",
    "    plt.xlabel('Theme')\n",
    "    plt.ylabel('Percentage')\n",
    "    plt.legend(title='Sentiment')\n",
    "    plt.xticks(rotation=45)\n",
    "    plt.tight_layout()\n",
    "    plt.show()\n",
    "    \n",
    "    # Show the raw counts as well\n",
    "    theme_sentiment = theme_sentiment.loc[theme_sentiment_pct.index]  # Use same order as percentages\n",
    "    plt.figure(figsize=(14, 10))\n",
    "    theme_sentiment.plot(kind='bar', stacked=True, colormap='RdYlGn')\n",
    "    plt.title('Sentiment Counts by Theme')\n",
    "    plt.xlabel('Theme')\n",
    "    plt.ylabel('Count')\n",
    "    plt.legend(title='Sentiment')\n",
    "    plt.xticks(rotation=45)\n",
    "    plt.tight_layout()\n",
    "    plt.show()\n",
    "else:\n",
    "    print(\"Sentiment analysis results not available\")"
   ]
  },
  {
   "cell_type": "code",
   "execution_count": null,
   "metadata": {},
   "outputs": [],
   "source": [
    "# Analyze themes by bank\n",
    "theme_bank = themed_df.groupby(['bank', 'identified_themes']).size().unstack().fillna(0)\n",
    "\n",
    "# Calculate percentages\n",
    "theme_bank_pct = theme_bank.div(theme_bank.sum(axis=1), axis=0) * 100\n",
    "\n",
    "# Plot heatmap\n",
    "plt.figure(figsize=(16, 12))\n",
    "sns.heatmap(theme_bank_pct, annot=True, cmap='YlGnBu', fmt='.1f')\n",
    "plt.title('Theme Distribution by Bank (Percentage)')\n",
    "plt.ylabel('Bank')\n",
    "plt.xlabel('Theme')\n",
    "plt.tight_layout()\n",
    "plt.show()"
   ]
  },
  {
   "cell_type": "markdown",
   "metadata": {},
   "source": [
    "## Theme Analysis by Rating"
   ]
  },
  {
   "cell_type": "code",
   "execution_count": null,
   "metadata": {},
   "outputs": [],
   "source": [
    "# Analyze themes by rating\n",
    "theme_rating = themed_df.groupby(['identified_themes', 'rating']).size().unstack().fillna(0)\n",
    "\n",
    "# Calculate percentages\n",
    "theme_rating_pct = theme_rating.div(theme_rating.sum(axis=1), axis=0) * 100\n",
    "\n",
    "# Plot\n",
    "plt.figure(figsize=(14, 10))\n",
    "theme_rating_pct.plot(kind='bar', stacked=True, colormap='viridis')\n",
    "plt.title('Rating Distribution by Theme')\n",
    "plt.xlabel('Theme')\n",
    "plt.ylabel('Percentage')\n",
    "plt.legend(title='Rating')\n",
    "plt.xticks(rotation=45)\n",
    "plt.tight_layout()\n",
    "plt.show()"
   ]
  },
  {
   "cell_type": "markdown",
   "metadata": {},
   "source": [
    "## Example Reviews by Theme"
   ]
  },
  {
   "cell_type": "code",
   "execution_count": null,
   "metadata": {},
   "outputs": [],
   "source": [
    "# Display example reviews for each theme\n",
    "for theme in themed_df['identified_themes'].unique():\n",
    "    if theme == 'Other':\n",
    "        continue\n",
    "        \n",
    "    # Get reviews for this theme\n",
    "    theme_reviews = themed_df[themed_df['identified_themes'] == theme]\n",
    "    \n",
    "    # Get positive, negative, and neutral examples if sentiment is available\n",
    "    if 'sentiment_label' in theme_reviews.columns:\n",
    "        print(f\"\\n{theme} - Example Reviews:\")\n",
    "        print(\"=\" * 80)\n",
    "        \n",
    "        for sentiment in ['positive', 'negative', 'neutral']:\n",
    "            if sentiment in theme_reviews['sentiment_label'].values:\n",
    "                sentiment_reviews = theme_reviews[theme_reviews['sentiment_label'] == sentiment]\n",
    "                sample = sentiment_reviews.sample(min(3, len(sentiment_reviews)))\n",
    "                \n",
    "                print(f\"\\n{sentiment.capitalize()} reviews:\")\n",
    "                for _, row in sample.iterrows():\n",
    "                    print(f\"Bank: {row['bank']} | Rating: {row['rating']} | Score: {row.get('sentiment_score', 'N/A'):.4f}\")\n",
    "                    print(f\"Review: {row['review_text']}\")\n",
    "                    print(\"---\")\n",
    "    else:\n",
    "        # Just show examples without sentiment breakdown\n",
    "        print(f\"\\n{theme} - Example Reviews:\")\n",
    "        print(\"=\" * 80)\n",
    "        sample = theme_reviews.sample(min(5, len(theme_reviews)))\n",
    "        for _, row in sample.iterrows():\n",
    "            print(f\"Bank: {row['bank']} | Rating: {row['rating']}\")\n",
    "            print(f\"Review: {row['review_text']}\")\n",
    "            print(\"---\")"
   ]
  },
  {
   "cell_type": "markdown",
   "metadata": {},
   "source": [
    "## Save Thematic Analysis Results"
   ]
  },
  {
   "cell_type": "code",
   "execution_count": null,
   "metadata": {},
   "outputs": [],
   "source": [
    "# Save results to CSV\n",
    "output_dir = '../data/task2'\n",
    "os.makedirs(output_dir, exist_ok=True)\n",
    "\n",
    "# Save final results with themes\n",
    "themed_df.to_csv(f'{output_dir}/final_results.csv', index=False)\n",
    "print(f\"Saved final results to {output_dir}/final_results.csv\")\n",
    "\n",
    "# Save themes by bank\n",
    "theme_rows = []\n",
    "for bank, themes in bank_themes.items():\n",
    "    for theme, score in themes:\n",
    "        theme_rows.append({\n",
    "            'bank': bank,\n",
    "            'theme': theme,\n",
    "            'theme_score': score\n",
    "        })\n",
    "theme_df = pd.DataFrame(theme_rows)\n",
    "theme_df.to_csv(f'{output_dir}/bank_themes.csv', index=False)\n",
    "print(f\"Saved bank themes to {output_dir}/bank_themes.csv\")"
   ]
  },
  {
   "cell_type": "markdown",
   "metadata": {},
   "source": [
    "## Thematic Analysis Conclusion\n",
    "\n",
    "Our thematic analysis revealed several key insights:\n",
    "\n",
    "1. The most common themes across Ethiopian mobile banking reviews are:\n",
    "   - Account Access Issues\n",
    "   - Transaction Performance\n",
    "   - App Performance & Reliability\n",
    "   - User Interface & Experience\n",
    "   - Customer Support\n",
    "\n",
    "2. Different banks have different strength areas and pain points:\n",
    "   - Some banks excel in transaction performance but struggle with account access\n",
    "   - Others have strong user interfaces but face reliability issues\n",
    "   - Customer support appears as a significant theme for several banks\n",
    "\n",
    "3. Theme and sentiment analysis together reveal:\n",
    "   - Account Access Issues generally receive negative sentiment\n",
    "   - User Interface & Experience themes have mixed sentiment\n",
    "   - Transaction Performance varies significantly by bank\n",
    "\n",
    "4. Low ratings (1-2 stars) are strongly associated with:\n",
    "   - App Performance & Reliability issues\n",
    "   - Account Access Issues\n",
    "   - Failed transactions\n",
    "\n",
    "5. High ratings (4-5 stars) are associated with:\n",
    "   - Positive User Interface & Experience\n",
    "   - Good transaction performance\n",
    "   - Useful features and functionality\n",
    "\n",
    "These insights can help banks prioritize improvements to their mobile applications to better meet customer needs and expectations."
   ]
  }
 ],
 "metadata": {
  "kernelspec": {
   "display_name": ".venv",
   "language": "python",
   "name": "python3"
  },
  "language_info": {
   "codemirror_mode": {
    "name": "ipython",
    "version": 3
   },
   "file_extension": ".py",
   "mimetype": "text/x-python",
   "name": "python",
   "nbconvert_exporter": "python",
   "pygments_lexer": "ipython3",
   "version": "3.9.13"
  }
 },
 "nbformat": 4,
 "nbformat_minor": 4
}
