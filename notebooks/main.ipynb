{
 "cells": [
  {
   "cell_type": "code",
   "execution_count": null,
   "metadata": {},
   "outputs": [],
   "source": [
    "# main.ipynb - Mobile Banking App Review Analysis\n",
    "# Orchestrates scraping, analysis, and preprocessing of Ethiopian bank app reviews\n",
    "\n",
    "import pandas as pd\n",
    "import numpy as np\n",
    "import matplotlib.pyplot as plt\n",
    "import seaborn as sns\n",
    "import os\n",
    "import glob\n",
    "from datetime import datetime\n",
    "import importlib\n",
    "\n",
    "import sys\n",
    "sys.path.append(os.path.abspath(os.path.join(os.getcwd(), '..')))\n",
    "\n",
    "# notebooks/main.ipynb\n",
    "\n",
    "# Import sys and set path to reach src directory\n",
    "import sys\n",
    "import os\n",
    "sys.path.append(os.path.abspath(\"../src\"))\n",
    "\n",
    "import scraper \n",
    "from src import preprocessor\n",
    " # This is src/scraper.py\n",
    "\n",
    "# Set visualization style\n",
    "plt.style.use('ggplot')\n",
    "sns.set_palette(\"Set2\")"
   ]
  },
  {
   "cell_type": "markdown",
   "metadata": {},
   "source": [
    "## 🏦 Ethiopian Mobile Banking App Review Analysis\n",
    "This notebook manages the entire workflow for analyzing mobile banking app reviews from the Google Play Store:\n",
    "\n",
    "- Scraping reviews using `scraper.py`\n",
    "- Conducting exploratory data analysis on raw data\n",
    "- Preprocessing data with `preprocessor.py`\n",
    "- Analyzing the cleaned dataset"
   ]
  },
  {
   "cell_type": "markdown",
   "metadata": {},
   "source": [
    "## 📱 Step 1: Scrape App Reviews"
   ]
  },
  {
   "cell_type": "code",
   "execution_count": 55,
   "metadata": {},
   "outputs": [
    {
     "name": "stdout",
     "output_type": "stream",
     "text": [
      "🔍 Starting review scraping process...\n",
      "\n",
      "➡️ Scraping reviews for Commercial Bank of Ethiopia...\n",
      "Scraping reviews for Commercial Bank of Ethiopia...\n",
      "Successfully scraped 500 reviews for Commercial Bank of Ethiopia\n",
      "✅ Retrieved 500 reviews for Commercial Bank of Ethiopia\n",
      "💾 Saved reviews to ../data/raw/commercial_bank_of_ethiopia_reviews_20250608.csv\n",
      "➡️ Scraping reviews for Bank of Abyssinia...\n",
      "Scraping reviews for BoA Mobile...\n",
      "Successfully scraped 500 reviews for BoA Mobile\n",
      "✅ Retrieved 500 reviews for Bank of Abyssinia\n",
      "💾 Saved reviews to ../data/raw/bank_of_abyssinia_reviews_20250608.csv\n",
      "➡️ Scraping reviews for Dashen Bank...\n",
      "Scraping reviews for Dashen Bank...\n",
      "Successfully scraped 449 reviews for Dashen Bank\n",
      "✅ Retrieved 449 reviews for Dashen Bank\n",
      "💾 Saved reviews to ../data/raw/dashen_bank_reviews_20250608.csv\n",
      "\n",
      "🎉 Scraping complete!\n"
     ]
    }
   ],
   "source": [
    "\n",
    "from datetime import datetime\n",
    "\n",
    "# App IDs for Ethiopian banks\n",
    "app_ids = {\n",
    "    \"com.combanketh.mobilebanking\": \"Commercial Bank of Ethiopia\",\n",
    "    \"com.boa.boaMobileBanking\": \"Bank of Abyssinia\",\n",
    "    \"com.dashen.dashensuperapp\": \"Dashen Bank\"\n",
    "}\n",
    "\n",
    "print(\"🔍 Starting review scraping process...\\n\")\n",
    "\n",
    "for app_id, bank_name in app_ids.items():\n",
    "    print(f\"➡️ Scraping reviews for {bank_name}...\")\n",
    "    df = scraper.scrape_app_reviews(app_id)\n",
    "\n",
    "    if not df.empty:\n",
    "        print(f\"✅ Retrieved {len(df)} reviews for {bank_name}\")\n",
    "        # Save DataFrame to CSV\n",
    "        safe_bank_name = bank_name.lower().replace(\" \", \"_\")\n",
    "        today = datetime.today().strftime(\"%Y%m%d\")\n",
    "        filename = f\"../data/raw/{safe_bank_name}_reviews_{today}.csv\"\n",
    "        df.to_csv(filename, index=False)\n",
    "        print(f\"💾 Saved reviews to {filename}\")\n",
    "    else:\n",
    "        print(f\"❌ Failed to retrieve reviews for {bank_name}\")\n",
    "\n",
    "print(\"\\n🎉 Scraping complete!\")\n"
   ]
  },
  {
   "cell_type": "markdown",
   "metadata": {},
   "source": [
    "## 📊 Step 2: Exploratory Data Analysis on Raw Data"
   ]
  },
  {
   "cell_type": "code",
   "execution_count": 38,
   "metadata": {},
   "outputs": [
    {
     "name": "stdout",
     "output_type": "stream",
     "text": [
      "📊 Loaded 1449 total reviews from 3 bank apps\n"
     ]
    }
   ],
   "source": [
    "# Load all raw CSV files\n",
    "raw_files = glob.glob(\"../data/raw/*.csv\")\n",
    "raw_dfs = []\n",
    "\n",
    "for file in raw_files:\n",
    "    bank_name = os.path.basename(file).split('_')[0].replace('_', ' ').title()\n",
    "    df = pd.read_csv(file)\n",
    "    df['file_source'] = file\n",
    "    raw_dfs.append(df)\n",
    "\n",
    "if raw_dfs:\n",
    "    raw_data = pd.concat(raw_dfs, ignore_index=True)\n",
    "    print(f\"📊 Loaded {len(raw_data)} total reviews from {len(raw_dfs)} bank apps\")\n",
    "else:\n",
    "    print(\"❌ No raw data found. Please run the scraper first.\")\n",
    "    raw_data = pd.DataFrame()"
   ]
  },
  {
   "cell_type": "markdown",
   "metadata": {},
   "source": [
    "### 📋 Basic Structural Analysis"
   ]
  },
  {
   "cell_type": "code",
   "execution_count": 39,
   "metadata": {},
   "outputs": [
    {
     "name": "stdout",
     "output_type": "stream",
     "text": [
      "\n",
      "📋 Raw Data Overview:\n"
     ]
    },
    {
     "data": {
      "text/html": [
       "<div>\n",
       "<style scoped>\n",
       "    .dataframe tbody tr th:only-of-type {\n",
       "        vertical-align: middle;\n",
       "    }\n",
       "\n",
       "    .dataframe tbody tr th {\n",
       "        vertical-align: top;\n",
       "    }\n",
       "\n",
       "    .dataframe thead th {\n",
       "        text-align: right;\n",
       "    }\n",
       "</style>\n",
       "<table border=\"1\" class=\"dataframe\">\n",
       "  <thead>\n",
       "    <tr style=\"text-align: right;\">\n",
       "      <th></th>\n",
       "      <th>review_text</th>\n",
       "      <th>rating</th>\n",
       "      <th>date</th>\n",
       "      <th>bank</th>\n",
       "      <th>source</th>\n",
       "      <th>file_source</th>\n",
       "    </tr>\n",
       "  </thead>\n",
       "  <tbody>\n",
       "    <tr>\n",
       "      <th>0</th>\n",
       "      <td>I have a fitayah account, a type of interest free account, and because their system is unable to...</td>\n",
       "      <td>1</td>\n",
       "      <td>2024-02-18 09:28:12</td>\n",
       "      <td>BoA Mobile</td>\n",
       "      <td>Google Play</td>\n",
       "      <td>../data/raw\\bank_of_abyssinia_reviews_20250608_202807.csv</td>\n",
       "    </tr>\n",
       "    <tr>\n",
       "      <th>1</th>\n",
       "      <td>Can you please just make it functional. I don't think anyone cares how good it looks if not a si...</td>\n",
       "      <td>1</td>\n",
       "      <td>2024-04-15 12:30:58</td>\n",
       "      <td>BoA Mobile</td>\n",
       "      <td>Google Play</td>\n",
       "      <td>../data/raw\\bank_of_abyssinia_reviews_20250608_202807.csv</td>\n",
       "    </tr>\n",
       "    <tr>\n",
       "      <th>2</th>\n",
       "      <td>Developers/ the company takes too long to update the app, and throughout that process, the app i...</td>\n",
       "      <td>2</td>\n",
       "      <td>2024-05-03 10:28:07</td>\n",
       "      <td>BoA Mobile</td>\n",
       "      <td>Google Play</td>\n",
       "      <td>../data/raw\\bank_of_abyssinia_reviews_20250608_202807.csv</td>\n",
       "    </tr>\n",
       "    <tr>\n",
       "      <th>3</th>\n",
       "      <td>This app is a joke. It crashes more than it works, takes forever to load, and half the features ...</td>\n",
       "      <td>1</td>\n",
       "      <td>2025-05-21 13:49:15</td>\n",
       "      <td>BoA Mobile</td>\n",
       "      <td>Google Play</td>\n",
       "      <td>../data/raw\\bank_of_abyssinia_reviews_20250608_202807.csv</td>\n",
       "    </tr>\n",
       "    <tr>\n",
       "      <th>4</th>\n",
       "      <td>Hello, I’m facing a problem with the BOA Mobile app. Every time I enter my phone number and pass...</td>\n",
       "      <td>1</td>\n",
       "      <td>2025-06-03 16:21:34</td>\n",
       "      <td>BoA Mobile</td>\n",
       "      <td>Google Play</td>\n",
       "      <td>../data/raw\\bank_of_abyssinia_reviews_20250608_202807.csv</td>\n",
       "    </tr>\n",
       "  </tbody>\n",
       "</table>\n",
       "</div>"
      ],
      "text/plain": [
       "                                                                                           review_text  \\\n",
       "0  I have a fitayah account, a type of interest free account, and because their system is unable to...   \n",
       "1  Can you please just make it functional. I don't think anyone cares how good it looks if not a si...   \n",
       "2  Developers/ the company takes too long to update the app, and throughout that process, the app i...   \n",
       "3  This app is a joke. It crashes more than it works, takes forever to load, and half the features ...   \n",
       "4  Hello, I’m facing a problem with the BOA Mobile app. Every time I enter my phone number and pass...   \n",
       "\n",
       "   rating                 date        bank       source  \\\n",
       "0       1  2024-02-18 09:28:12  BoA Mobile  Google Play   \n",
       "1       1  2024-04-15 12:30:58  BoA Mobile  Google Play   \n",
       "2       2  2024-05-03 10:28:07  BoA Mobile  Google Play   \n",
       "3       1  2025-05-21 13:49:15  BoA Mobile  Google Play   \n",
       "4       1  2025-06-03 16:21:34  BoA Mobile  Google Play   \n",
       "\n",
       "                                                 file_source  \n",
       "0  ../data/raw\\bank_of_abyssinia_reviews_20250608_202807.csv  \n",
       "1  ../data/raw\\bank_of_abyssinia_reviews_20250608_202807.csv  \n",
       "2  ../data/raw\\bank_of_abyssinia_reviews_20250608_202807.csv  \n",
       "3  ../data/raw\\bank_of_abyssinia_reviews_20250608_202807.csv  \n",
       "4  ../data/raw\\bank_of_abyssinia_reviews_20250608_202807.csv  "
      ]
     },
     "metadata": {},
     "output_type": "display_data"
    },
    {
     "name": "stdout",
     "output_type": "stream",
     "text": [
      "\n",
      "🔢 Data Shape: (1449, 6)\n",
      "\n",
      "📊 Data Types:\n"
     ]
    },
    {
     "data": {
      "text/plain": [
       "review_text    object\n",
       "rating          int64\n",
       "date           object\n",
       "bank           object\n",
       "source         object\n",
       "file_source    object\n",
       "dtype: object"
      ]
     },
     "metadata": {},
     "output_type": "display_data"
    },
    {
     "name": "stdout",
     "output_type": "stream",
     "text": [
      "\n",
      "📊 Basic Statistics:\n"
     ]
    },
    {
     "data": {
      "text/html": [
       "<div>\n",
       "<style scoped>\n",
       "    .dataframe tbody tr th:only-of-type {\n",
       "        vertical-align: middle;\n",
       "    }\n",
       "\n",
       "    .dataframe tbody tr th {\n",
       "        vertical-align: top;\n",
       "    }\n",
       "\n",
       "    .dataframe thead th {\n",
       "        text-align: right;\n",
       "    }\n",
       "</style>\n",
       "<table border=\"1\" class=\"dataframe\">\n",
       "  <thead>\n",
       "    <tr style=\"text-align: right;\">\n",
       "      <th></th>\n",
       "      <th>review_text</th>\n",
       "      <th>rating</th>\n",
       "      <th>date</th>\n",
       "      <th>bank</th>\n",
       "      <th>source</th>\n",
       "      <th>file_source</th>\n",
       "    </tr>\n",
       "  </thead>\n",
       "  <tbody>\n",
       "    <tr>\n",
       "      <th>count</th>\n",
       "      <td>1449</td>\n",
       "      <td>1449.000000</td>\n",
       "      <td>1449</td>\n",
       "      <td>1449</td>\n",
       "      <td>1449</td>\n",
       "      <td>1449</td>\n",
       "    </tr>\n",
       "    <tr>\n",
       "      <th>unique</th>\n",
       "      <td>1405</td>\n",
       "      <td>NaN</td>\n",
       "      <td>1449</td>\n",
       "      <td>3</td>\n",
       "      <td>1</td>\n",
       "      <td>3</td>\n",
       "    </tr>\n",
       "    <tr>\n",
       "      <th>top</th>\n",
       "      <td>good</td>\n",
       "      <td>NaN</td>\n",
       "      <td>2024-02-18 09:28:12</td>\n",
       "      <td>BoA Mobile</td>\n",
       "      <td>Google Play</td>\n",
       "      <td>../data/raw\\bank_of_abyssinia_reviews_20250608_202807.csv</td>\n",
       "    </tr>\n",
       "    <tr>\n",
       "      <th>freq</th>\n",
       "      <td>11</td>\n",
       "      <td>NaN</td>\n",
       "      <td>1</td>\n",
       "      <td>500</td>\n",
       "      <td>1449</td>\n",
       "      <td>500</td>\n",
       "    </tr>\n",
       "    <tr>\n",
       "      <th>mean</th>\n",
       "      <td>NaN</td>\n",
       "      <td>3.108351</td>\n",
       "      <td>NaN</td>\n",
       "      <td>NaN</td>\n",
       "      <td>NaN</td>\n",
       "      <td>NaN</td>\n",
       "    </tr>\n",
       "    <tr>\n",
       "      <th>std</th>\n",
       "      <td>NaN</td>\n",
       "      <td>1.766397</td>\n",
       "      <td>NaN</td>\n",
       "      <td>NaN</td>\n",
       "      <td>NaN</td>\n",
       "      <td>NaN</td>\n",
       "    </tr>\n",
       "    <tr>\n",
       "      <th>min</th>\n",
       "      <td>NaN</td>\n",
       "      <td>1.000000</td>\n",
       "      <td>NaN</td>\n",
       "      <td>NaN</td>\n",
       "      <td>NaN</td>\n",
       "      <td>NaN</td>\n",
       "    </tr>\n",
       "    <tr>\n",
       "      <th>25%</th>\n",
       "      <td>NaN</td>\n",
       "      <td>1.000000</td>\n",
       "      <td>NaN</td>\n",
       "      <td>NaN</td>\n",
       "      <td>NaN</td>\n",
       "      <td>NaN</td>\n",
       "    </tr>\n",
       "    <tr>\n",
       "      <th>50%</th>\n",
       "      <td>NaN</td>\n",
       "      <td>3.000000</td>\n",
       "      <td>NaN</td>\n",
       "      <td>NaN</td>\n",
       "      <td>NaN</td>\n",
       "      <td>NaN</td>\n",
       "    </tr>\n",
       "    <tr>\n",
       "      <th>75%</th>\n",
       "      <td>NaN</td>\n",
       "      <td>5.000000</td>\n",
       "      <td>NaN</td>\n",
       "      <td>NaN</td>\n",
       "      <td>NaN</td>\n",
       "      <td>NaN</td>\n",
       "    </tr>\n",
       "    <tr>\n",
       "      <th>max</th>\n",
       "      <td>NaN</td>\n",
       "      <td>5.000000</td>\n",
       "      <td>NaN</td>\n",
       "      <td>NaN</td>\n",
       "      <td>NaN</td>\n",
       "      <td>NaN</td>\n",
       "    </tr>\n",
       "  </tbody>\n",
       "</table>\n",
       "</div>"
      ],
      "text/plain": [
       "       review_text       rating                 date        bank       source  \\\n",
       "count         1449  1449.000000                 1449        1449         1449   \n",
       "unique        1405          NaN                 1449           3            1   \n",
       "top           good          NaN  2024-02-18 09:28:12  BoA Mobile  Google Play   \n",
       "freq            11          NaN                    1         500         1449   \n",
       "mean           NaN     3.108351                  NaN         NaN          NaN   \n",
       "std            NaN     1.766397                  NaN         NaN          NaN   \n",
       "min            NaN     1.000000                  NaN         NaN          NaN   \n",
       "25%            NaN     1.000000                  NaN         NaN          NaN   \n",
       "50%            NaN     3.000000                  NaN         NaN          NaN   \n",
       "75%            NaN     5.000000                  NaN         NaN          NaN   \n",
       "max            NaN     5.000000                  NaN         NaN          NaN   \n",
       "\n",
       "                                                      file_source  \n",
       "count                                                        1449  \n",
       "unique                                                          3  \n",
       "top     ../data/raw\\bank_of_abyssinia_reviews_20250608_202807.csv  \n",
       "freq                                                          500  \n",
       "mean                                                          NaN  \n",
       "std                                                           NaN  \n",
       "min                                                           NaN  \n",
       "25%                                                           NaN  \n",
       "50%                                                           NaN  \n",
       "75%                                                           NaN  \n",
       "max                                                           NaN  "
      ]
     },
     "metadata": {},
     "output_type": "display_data"
    }
   ],
   "source": [
    "if not raw_data.empty:\n",
    "    print(\"\\n📋 Raw Data Overview:\")\n",
    "    display(raw_data.head())\n",
    "    \n",
    "    print(\"\\n🔢 Data Shape:\", raw_data.shape)\n",
    "    print(\"\\n📊 Data Types:\")\n",
    "    display(raw_data.dtypes)\n",
    "    \n",
    "    print(\"\\n📊 Basic Statistics:\")\n",
    "    display(raw_data.describe(include='all'))"
   ]
  },
  {
   "cell_type": "markdown",
   "metadata": {},
   "source": [
    "### 🔍 Missing and Null Values"
   ]
  },
  {
   "cell_type": "code",
   "execution_count": 47,
   "metadata": {},
   "outputs": [
    {
     "name": "stdout",
     "output_type": "stream",
     "text": [
      "\n",
      "🔍 Missing Values Analysis:\n"
     ]
    },
    {
     "data": {
      "text/html": [
       "<div>\n",
       "<style scoped>\n",
       "    .dataframe tbody tr th:only-of-type {\n",
       "        vertical-align: middle;\n",
       "    }\n",
       "\n",
       "    .dataframe tbody tr th {\n",
       "        vertical-align: top;\n",
       "    }\n",
       "\n",
       "    .dataframe thead th {\n",
       "        text-align: right;\n",
       "    }\n",
       "</style>\n",
       "<table border=\"1\" class=\"dataframe\">\n",
       "  <thead>\n",
       "    <tr style=\"text-align: right;\">\n",
       "      <th></th>\n",
       "      <th>Missing Values</th>\n",
       "      <th>Percentage</th>\n",
       "    </tr>\n",
       "  </thead>\n",
       "  <tbody>\n",
       "    <tr>\n",
       "      <th>review_text</th>\n",
       "      <td>0</td>\n",
       "      <td>0.0</td>\n",
       "    </tr>\n",
       "    <tr>\n",
       "      <th>rating</th>\n",
       "      <td>0</td>\n",
       "      <td>0.0</td>\n",
       "    </tr>\n",
       "    <tr>\n",
       "      <th>date</th>\n",
       "      <td>0</td>\n",
       "      <td>0.0</td>\n",
       "    </tr>\n",
       "    <tr>\n",
       "      <th>bank</th>\n",
       "      <td>0</td>\n",
       "      <td>0.0</td>\n",
       "    </tr>\n",
       "    <tr>\n",
       "      <th>source</th>\n",
       "      <td>0</td>\n",
       "      <td>0.0</td>\n",
       "    </tr>\n",
       "    <tr>\n",
       "      <th>file_source</th>\n",
       "      <td>0</td>\n",
       "      <td>0.0</td>\n",
       "    </tr>\n",
       "    <tr>\n",
       "      <th>review_length</th>\n",
       "      <td>0</td>\n",
       "      <td>0.0</td>\n",
       "    </tr>\n",
       "  </tbody>\n",
       "</table>\n",
       "</div>"
      ],
      "text/plain": [
       "               Missing Values  Percentage\n",
       "review_text                 0         0.0\n",
       "rating                      0         0.0\n",
       "date                        0         0.0\n",
       "bank                        0         0.0\n",
       "source                      0         0.0\n",
       "file_source                 0         0.0\n",
       "review_length               0         0.0"
      ]
     },
     "metadata": {},
     "output_type": "display_data"
    },
    {
     "data": {
      "image/png": "[encoded data removed]",
      "text/plain": [
       "<Figure size 1000x600 with 1 Axes>"
      ]
     },
     "metadata": {},
     "output_type": "display_data"
    }
   ],
   "source": [
    "if not raw_data.empty:\n",
    "    # Calculate missing values\n",
    "    missing_data = raw_data.isnull().sum()\n",
    "    missing_percentage = (missing_data / len(raw_data)) * 100\n",
    "    \n",
    "    missing_df = pd.DataFrame({\n",
    "        'Missing Values': missing_data,\n",
    "        'Percentage': missing_percentage\n",
    "    })\n",
    "    \n",
    "    print(\"\\n🔍 Missing Values Analysis:\")\n",
    "    display(missing_df)\n",
    "    \n",
    "    # Visualize missing data\n",
    "    plt.figure(figsize=(10, 6))\n",
    "    sns.barplot(x=missing_df.index, y='Percentage', data=missing_df)\n",
    "    plt.title('Percentage of Missing Values by Column')\n",
    "    plt.xticks(rotation=45)\n",
    "    plt.ylabel('Percentage (%)')\n",
    "    plt.tight_layout()\n",
    "    plt.show()"
   ]
  },
  {
   "cell_type": "markdown",
   "metadata": {},
   "source": [
    "### 🔄 Duplicates Check"
   ]
  },
  {
   "cell_type": "code",
   "execution_count": 41,
   "metadata": {},
   "outputs": [
    {
     "name": "stdout",
     "output_type": "stream",
     "text": [
      "\n",
      "🔄 Duplicate Rows: 0 (0.00%)\n",
      "🔄 Duplicate Reviews (by text only): 44 (3.04%)\n"
     ]
    }
   ],
   "source": [
    "if not raw_data.empty:\n",
    "    # Check for duplicates\n",
    "    duplicates = raw_data.duplicated().sum()\n",
    "    print(f\"\\n🔄 Duplicate Rows: {duplicates} ({duplicates/len(raw_data)*100:.2f}%)\")\n",
    "    \n",
    "    # Check for duplicates based on review text only\n",
    "    text_duplicates = raw_data.duplicated(subset=['review_text']).sum()\n",
    "    print(f\"🔄 Duplicate Reviews (by text only): {text_duplicates} ({text_duplicates/len(raw_data)*100:.2f}%)\")"
   ]
  },
  {
   "cell_type": "markdown",
   "metadata": {},
   "source": [
    "### 📏 Length of Reviews"
   ]
  },
  {
   "cell_type": "code",
   "execution_count": 42,
   "metadata": {},
   "outputs": [
    {
     "data": {
      "image/png": "[encoded data removed]",
      "text/plain": [
       "<Figure size 1200x600 with 2 Axes>"
      ]
     },
     "metadata": {},
     "output_type": "display_data"
    },
    {
     "name": "stdout",
     "output_type": "stream",
     "text": [
      "\n",
      "📏 Review Length Statistics:\n"
     ]
    },
    {
     "data": {
      "text/html": [
       "<div>\n",
       "<style scoped>\n",
       "    .dataframe tbody tr th:only-of-type {\n",
       "        vertical-align: middle;\n",
       "    }\n",
       "\n",
       "    .dataframe tbody tr th {\n",
       "        vertical-align: top;\n",
       "    }\n",
       "\n",
       "    .dataframe thead th {\n",
       "        text-align: right;\n",
       "    }\n",
       "</style>\n",
       "<table border=\"1\" class=\"dataframe\">\n",
       "  <thead>\n",
       "    <tr style=\"text-align: right;\">\n",
       "      <th></th>\n",
       "      <th>count</th>\n",
       "      <th>mean</th>\n",
       "      <th>std</th>\n",
       "      <th>min</th>\n",
       "      <th>25%</th>\n",
       "      <th>50%</th>\n",
       "      <th>75%</th>\n",
       "      <th>max</th>\n",
       "    </tr>\n",
       "    <tr>\n",
       "      <th>bank</th>\n",
       "      <th></th>\n",
       "      <th></th>\n",
       "      <th></th>\n",
       "      <th></th>\n",
       "      <th></th>\n",
       "      <th></th>\n",
       "      <th></th>\n",
       "      <th></th>\n",
       "    </tr>\n",
       "  </thead>\n",
       "  <tbody>\n",
       "    <tr>\n",
       "      <th>BoA Mobile</th>\n",
       "      <td>500.0</td>\n",
       "      <td>111.652000</td>\n",
       "      <td>109.068064</td>\n",
       "      <td>12.0</td>\n",
       "      <td>38.0</td>\n",
       "      <td>73.0</td>\n",
       "      <td>142.25</td>\n",
       "      <td>500.0</td>\n",
       "    </tr>\n",
       "    <tr>\n",
       "      <th>Commercial Bank of Ethiopia</th>\n",
       "      <td>500.0</td>\n",
       "      <td>217.986000</td>\n",
       "      <td>126.241466</td>\n",
       "      <td>17.0</td>\n",
       "      <td>114.0</td>\n",
       "      <td>198.5</td>\n",
       "      <td>303.25</td>\n",
       "      <td>563.0</td>\n",
       "    </tr>\n",
       "    <tr>\n",
       "      <th>Dashen Bank</th>\n",
       "      <td>449.0</td>\n",
       "      <td>75.775056</td>\n",
       "      <td>99.749265</td>\n",
       "      <td>1.0</td>\n",
       "      <td>13.0</td>\n",
       "      <td>35.0</td>\n",
       "      <td>99.00</td>\n",
       "      <td>500.0</td>\n",
       "    </tr>\n",
       "  </tbody>\n",
       "</table>\n",
       "</div>"
      ],
      "text/plain": [
       "                             count        mean         std   min    25%  \\\n",
       "bank                                                                      \n",
       "BoA Mobile                   500.0  111.652000  109.068064  12.0   38.0   \n",
       "Commercial Bank of Ethiopia  500.0  217.986000  126.241466  17.0  114.0   \n",
       "Dashen Bank                  449.0   75.775056   99.749265   1.0   13.0   \n",
       "\n",
       "                               50%     75%    max  \n",
       "bank                                               \n",
       "BoA Mobile                    73.0  142.25  500.0  \n",
       "Commercial Bank of Ethiopia  198.5  303.25  563.0  \n",
       "Dashen Bank                   35.0   99.00  500.0  "
      ]
     },
     "metadata": {},
     "output_type": "display_data"
    }
   ],
   "source": [
    "if not raw_data.empty:\n",
    "    # Calculate review length\n",
    "    raw_data['review_length'] = raw_data['review_text'].fillna(\"\").apply(len)\n",
    "    \n",
    "    # Plot distribution of review lengths\n",
    "    plt.figure(figsize=(12, 6))\n",
    "    \n",
    "    plt.subplot(1, 2, 1)\n",
    "    sns.histplot(raw_data['review_length'], bins=30, kde=True)\n",
    "    plt.title('Distribution of Review Lengths')\n",
    "    plt.xlabel('Review Length (characters)')\n",
    "    \n",
    "    plt.subplot(1, 2, 2)\n",
    "    sns.boxplot(x='bank', y='review_length', data=raw_data)\n",
    "    plt.title('Review Length by Bank')\n",
    "    plt.xticks(rotation=45)\n",
    "    plt.tight_layout()\n",
    "    plt.show()\n",
    "    \n",
    "    print(\"\\n📏 Review Length Statistics:\")\n",
    "    display(raw_data.groupby('bank')['review_length'].describe())"
   ]
  },
  {
   "cell_type": "markdown",
   "metadata": {},
   "source": [
    "### ⭐ Ratings Distribution"
   ]
  },
  {
   "cell_type": "code",
   "execution_count": 48,
   "metadata": {},
   "outputs": [
    {
     "data": {
      "image/png": "[encoded data removed]",
      "text/plain": [
       "<Figure size 1200x600 with 2 Axes>"
      ]
     },
     "metadata": {},
     "output_type": "display_data"
    },
    {
     "name": "stdout",
     "output_type": "stream",
     "text": [
      "\n",
      "⭐ Rating Statistics by Bank:\n"
     ]
    },
    {
     "data": {
      "text/html": [
       "<div>\n",
       "<style scoped>\n",
       "    .dataframe tbody tr th:only-of-type {\n",
       "        vertical-align: middle;\n",
       "    }\n",
       "\n",
       "    .dataframe tbody tr th {\n",
       "        vertical-align: top;\n",
       "    }\n",
       "\n",
       "    .dataframe thead th {\n",
       "        text-align: right;\n",
       "    }\n",
       "</style>\n",
       "<table border=\"1\" class=\"dataframe\">\n",
       "  <thead>\n",
       "    <tr style=\"text-align: right;\">\n",
       "      <th></th>\n",
       "      <th>Total Reviews</th>\n",
       "      <th>Average Rating</th>\n",
       "      <th>std</th>\n",
       "      <th>min</th>\n",
       "      <th>max</th>\n",
       "    </tr>\n",
       "    <tr>\n",
       "      <th>bank</th>\n",
       "      <th></th>\n",
       "      <th></th>\n",
       "      <th></th>\n",
       "      <th></th>\n",
       "      <th></th>\n",
       "    </tr>\n",
       "  </thead>\n",
       "  <tbody>\n",
       "    <tr>\n",
       "      <th>BoA Mobile</th>\n",
       "      <td>500</td>\n",
       "      <td>2.112000</td>\n",
       "      <td>1.606430</td>\n",
       "      <td>1</td>\n",
       "      <td>5</td>\n",
       "    </tr>\n",
       "    <tr>\n",
       "      <th>Commercial Bank of Ethiopia</th>\n",
       "      <td>500</td>\n",
       "      <td>2.882000</td>\n",
       "      <td>1.566200</td>\n",
       "      <td>1</td>\n",
       "      <td>5</td>\n",
       "    </tr>\n",
       "    <tr>\n",
       "      <th>Dashen Bank</th>\n",
       "      <td>449</td>\n",
       "      <td>4.469933</td>\n",
       "      <td>1.206238</td>\n",
       "      <td>1</td>\n",
       "      <td>5</td>\n",
       "    </tr>\n",
       "  </tbody>\n",
       "</table>\n",
       "</div>"
      ],
      "text/plain": [
       "                             Total Reviews  Average Rating       std  min  max\n",
       "bank                                                                          \n",
       "BoA Mobile                             500        2.112000  1.606430    1    5\n",
       "Commercial Bank of Ethiopia            500        2.882000  1.566200    1    5\n",
       "Dashen Bank                            449        4.469933  1.206238    1    5"
      ]
     },
     "metadata": {},
     "output_type": "display_data"
    }
   ],
   "source": [
    "if not raw_data.empty:\n",
    "    # Plot ratings distribution\n",
    "    plt.figure(figsize=(12, 6))\n",
    "    \n",
    "    plt.subplot(1, 2, 1)\n",
    "    sns.countplot(x='rating', data=raw_data)\n",
    "    plt.title('Overall Rating Distribution')\n",
    "    plt.xlabel('Rating (stars)')\n",
    "    \n",
    "    plt.subplot(1, 2, 2)\n",
    "    sns.barplot(x='bank', y='rating', data=raw_data, estimator=np.mean)\n",
    "    plt.title('Average Rating by Bank')\n",
    "    plt.xticks(rotation=45)\n",
    "    plt.tight_layout()\n",
    "    plt.show()\n",
    "    \n",
    "    # Detailed rating statistics by bank\n",
    "    rating_stats = raw_data.groupby('bank')['rating'].agg(['count', 'mean', 'std', 'min', 'max'])\n",
    "    rating_stats = rating_stats.rename(columns={'count': 'Total Reviews', 'mean': 'Average Rating'})\n",
    "    \n",
    "    print(\"\\n⭐ Rating Statistics by Bank:\")\n",
    "    display(rating_stats)"
   ]
  },
  {
   "cell_type": "markdown",
   "metadata": {},
   "source": [
    "### 🏦 Reviews per Bank"
   ]
  },
  {
   "cell_type": "code",
   "execution_count": 44,
   "metadata": {},
   "outputs": [
    {
     "data": {
      "image/png": "[encoded data removed]",
      "text/plain": [
       "<Figure size 1000x600 with 1 Axes>"
      ]
     },
     "metadata": {},
     "output_type": "display_data"
    },
    {
     "name": "stdout",
     "output_type": "stream",
     "text": [
      "\n",
      "🏦 Reviews per Bank:\n"
     ]
    },
    {
     "data": {
      "text/html": [
       "<div>\n",
       "<style scoped>\n",
       "    .dataframe tbody tr th:only-of-type {\n",
       "        vertical-align: middle;\n",
       "    }\n",
       "\n",
       "    .dataframe tbody tr th {\n",
       "        vertical-align: top;\n",
       "    }\n",
       "\n",
       "    .dataframe thead th {\n",
       "        text-align: right;\n",
       "    }\n",
       "</style>\n",
       "<table border=\"1\" class=\"dataframe\">\n",
       "  <thead>\n",
       "    <tr style=\"text-align: right;\">\n",
       "      <th></th>\n",
       "      <th>Bank</th>\n",
       "      <th>Review Count</th>\n",
       "    </tr>\n",
       "  </thead>\n",
       "  <tbody>\n",
       "    <tr>\n",
       "      <th>0</th>\n",
       "      <td>BoA Mobile</td>\n",
       "      <td>500</td>\n",
       "    </tr>\n",
       "    <tr>\n",
       "      <th>1</th>\n",
       "      <td>Commercial Bank of Ethiopia</td>\n",
       "      <td>500</td>\n",
       "    </tr>\n",
       "    <tr>\n",
       "      <th>2</th>\n",
       "      <td>Dashen Bank</td>\n",
       "      <td>449</td>\n",
       "    </tr>\n",
       "  </tbody>\n",
       "</table>\n",
       "</div>"
      ],
      "text/plain": [
       "                          Bank  Review Count\n",
       "0                   BoA Mobile           500\n",
       "1  Commercial Bank of Ethiopia           500\n",
       "2                  Dashen Bank           449"
      ]
     },
     "metadata": {},
     "output_type": "display_data"
    }
   ],
   "source": [
    "if not raw_data.empty:\n",
    "    # Count reviews per bank\n",
    "    bank_counts = raw_data['bank'].value_counts().reset_index()\n",
    "    bank_counts.columns = ['Bank', 'Review Count']\n",
    "    \n",
    "    # Plot\n",
    "    plt.figure(figsize=(10, 6))\n",
    "    sns.barplot(x='Bank', y='Review Count', data=bank_counts)\n",
    "    plt.title('Number of Reviews by Bank')\n",
    "    plt.xticks(rotation=45)\n",
    "    plt.tight_layout()\n",
    "    plt.show()\n",
    "    \n",
    "    print(\"\\n🏦 Reviews per Bank:\")\n",
    "    display(bank_counts)"
   ]
  },
  {
   "cell_type": "markdown",
   "metadata": {},
   "source": [
    "### 🚫 Empty Reviews"
   ]
  },
  {
   "cell_type": "code",
   "execution_count": 51,
   "metadata": {},
   "outputs": [
    {
     "name": "stdout",
     "output_type": "stream",
     "text": [
      "\n",
      "🚫 Empty Reviews: 0 (0.00%)\n"
     ]
    }
   ],
   "source": [
    "if not raw_data.empty:\n",
    "    # Check for empty reviews\n",
    "    empty_reviews = raw_data['review_text'].fillna(\"\").apply(lambda x: len(str(x).strip()) == 0).sum()\n",
    "    print(f\"\\n🚫 Empty Reviews: {empty_reviews} ({empty_reviews/len(raw_data)*100:.2f}%)\")\n",
    "    \n",
    "    # Reviews with just ratings but no text\n",
    "    rating_only = raw_data[raw_data['review_text'].fillna(\"\").apply(lambda x: len(str(x).strip()) == 0)]\n",
    "    \n",
    "    # Rating distribution for empty reviews\n",
    "    if not rating_only.empty:\n",
    "        plt.figure(figsize=(8, 5))\n",
    "        sns.countplot(x='rating', data=rating_only)\n",
    "        plt.title('Rating Distribution for Reviews with No Text')\n",
    "        plt.xlabel('Rating (stars)')\n",
    "        plt.tight_layout()\n",
    "        plt.show()"
   ]
  },
  {
   "cell_type": "markdown",
   "metadata": {},
   "source": [
    "## 🧹 Step 3: Preprocess the Data"
   ]
  },
  {
   "cell_type": "code",
   "execution_count": 109,
   "metadata": {},
   "outputs": [
    {
     "name": "stdout",
     "output_type": "stream",
     "text": [
      "\n",
      "🧹 Starting data preprocessing...\n",
      "hello\n",
      "No raaaaaw data files found. Please run the scraper first.\n",
      "✅ Preprocessing complete!\n"
     ]
    }
   ],
   "source": [
    "import sys\n",
    "import os\n",
    "sys.path.append(os.path.abspath(\"..\"))\n",
    "\n",
    "import src.preprocessor\n",
    "import importlib\n",
    "importlib.reload(src.preprocessor)\n",
    "\n",
    "print(\"\\n🧹 Starting data preprocessing...\")\n",
    "processed_data = src.preprocessor.preprocess_bank_reviews()\n",
    "print(\"✅ Preprocessing complete!\")"
   ]
  },
  {
   "cell_type": "markdown",
   "metadata": {},
   "source": [
    "## 📈 Step 4: Analysis of Preprocessed Data"
   ]
  },
  {
   "cell_type": "code",
   "execution_count": null,
   "metadata": {},
   "outputs": [
    {
     "name": "stdout",
     "output_type": "stream",
     "text": [
      "❌ Error loading processed data: [Errno 2] No such file or directory: 'data/processed/all_bank_reviews_processed.csv'\n"
     ]
    }
   ],
   "source": [
    "# Load the processed data\n",
    "try:\n",
    "    proc_data = pd.read_csv(\"../data/processed/all_bank_reviews_processed.csv\")\n",
    "    print(f\"\\n📊 Loaded {len(proc_data)} processed reviews\")\n",
    "    \n",
    "    # Display sample of processed data\n",
    "    print(\"\\n📋 Processed Data Sample:\")\n",
    "    display(proc_data.head())\n",
    "    \n",
    "    # Compare raw vs processed data counts\n",
    "    if not raw_data.empty:\n",
    "        raw_count = len(raw_data)\n",
    "        proc_count = len(proc_data)\n",
    "        diff = raw_count - proc_count\n",
    "        \n",
    "        print(f\"\\n📊 Data Reduction Summary:\")\n",
    "        print(f\"Original reviews: {raw_count}\")\n",
    "        print(f\"Processed reviews: {proc_count}\")\n",
    "        print(f\"Reduction: {diff} reviews ({diff/raw_count*100:.2f}%)\")\n",
    "        \n",
    "        # Create comparison dataframe\n",
    "        compare_df = pd.DataFrame({\n",
    "            'Dataset': ['Raw Data', 'Processed Data'],\n",
    "            'Count': [raw_count, proc_count]\n",
    "        })\n",
    "        \n",
    "        plt.figure(figsize=(8, 5))\n",
    "        sns.barplot(x='Dataset', y='Count', data=compare_df)\n",
    "        plt.title('Comparison of Raw vs Processed Data Volume')\n",
    "        plt.tight_layout()\n",
    "        plt.show()\n",
    "    \n",
    "    # Examine issues resolved by preprocessing\n",
    "    print(\"\\n🔍 Impact of Preprocessing:\")\n",
    "    \n",
    "    # 1. Missing values resolved\n",
    "    missing_proc = proc_data.isnull().sum()\n",
    "    missing_proc_pct = (missing_proc / len(proc_data)) * 100\n",
    "    \n",
    "    print(\"\\nMissing Values After Preprocessing:\")\n",
    "    display(pd.DataFrame({\n",
    "        'Missing Values': missing_proc,\n",
    "        'Percentage': missing_proc_pct\n",
    "    }))\n",
    "    \n",
    "    # 2. Duplicates resolved\n",
    "    duplicates_proc = proc_data.duplicated().sum()\n",
    "    print(f\"\\nDuplicates After Preprocessing: {duplicates_proc} ({duplicates_proc/len(proc_data)*100:.2f}%)\")\n",
    "    \n",
    "    # 3. Date normalization\n",
    "    print(\"\\nDate Format After Preprocessing:\")\n",
    "    display(proc_data['date'].head())\n",
    "    \n",
    "except Exception as e:\n",
    "    print(f\"❌ Error loading processed data: {str(e)}\")"
   ]
  },
  {
   "cell_type": "markdown",
   "metadata": {},
   "source": [
    "## 🏁 Conclusion"
   ]
  },
  {
   "cell_type": "code",
   "execution_count": null,
   "metadata": {},
   "outputs": [],
   "source": [
    "print(\"\\n🏁 Analysis Complete!\")\n",
    "print(\"\"\"\n",
    "Key Findings:\n",
    "- Successfully scraped and processed reviews for Ethiopian mobile banking apps\n",
    "- Analyzed distribution of ratings and review content across banks\n",
    "- Identified and addressed data quality issues through preprocessing\n",
    "- Prepared clean dataset ready for further analysis or sentiment analysis\n",
    "\"\"\")"
   ]
  }
 ],
 "metadata": {
  "kernelspec": {
   "display_name": "Python 3",
   "language": "python",
   "name": "python3"
  },
  "language_info": {
   "codemirror_mode": {
    "name": "ipython",
    "version": 3
   },
   "file_extension": ".py",
   "mimetype": "text/x-python",
   "name": "python",
   "nbconvert_exporter": "python",
   "pygments_lexer": "ipython3",
   "version": "3.9.7"
  }
 },
 "nbformat": 4,
 "nbformat_minor": 4
}
